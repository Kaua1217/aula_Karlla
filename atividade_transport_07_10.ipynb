{
  "nbformat": 4,
  "nbformat_minor": 0,
  "metadata": {
    "colab": {
      "provenance": [],
      "authorship_tag": "ABX9TyOuVPuEZZ+3jmkHlbm0tiy/",
      "include_colab_link": true
    },
    "kernelspec": {
      "name": "python3",
      "display_name": "Python 3"
    },
    "language_info": {
      "name": "python"
    }
  },
  "cells": [
    {
      "cell_type": "markdown",
      "metadata": {
        "id": "view-in-github",
        "colab_type": "text"
      },
      "source": [
        "<a href=\"https://colab.research.google.com/github/Kaua1217/aula_Karlla/blob/main/atividade_transport_07_10.ipynb\" target=\"_parent\"><img src=\"https://colab.research.google.com/assets/colab-badge.svg\" alt=\"Open In Colab\"/></a>"
      ]
    },
    {
      "cell_type": "code",
      "execution_count": null,
      "metadata": {
        "colab": {
          "base_uri": "https://localhost:8080/"
        },
        "id": "hV8Rn3FdEnUo",
        "outputId": "60d020d9-d751-4a3e-af74-92b4c9e00c33"
      },
      "outputs": [
        {
          "output_type": "stream",
          "name": "stdout",
          "text": [
            "Requirement already satisfied: pulp in /usr/local/lib/python3.12/dist-packages (3.3.0)\n",
            "Status da Solução: Optimal\n",
            "\n",
            "--- Resultados Ótimos ---\n",
            "\n",
            "Alocação (toneladas):\n",
            "  Fábrica 1 -> Depósito 2: 2,000 t (Custo R$2.00/t)\n",
            "  Fábrica 2 -> Depósito 2: 1,000 t (Custo R$2.00/t)\n",
            "  Fábrica 2 -> Depósito 3: 1,000 t (Custo R$4.00/t)\n",
            "  Fábrica 3 -> Depósito 1: 2,000 t (Custo R$4.00/t)\n",
            "\n",
            "CUSTO MÍNIMO TOTAL: R$ 18,000.00\n",
            "\n",
            "Análise de Capacidade nos Depósitos (Demanda Atendida):\n",
            "  Depósito 1 - Recebido: 2,000 t (Capacidade: 3,000 t)\n",
            "  Depósito 2 - Recebido: 3,000 t (Capacidade: 3,000 t)\n",
            "  Depósito 3 - Recebido: 1,000 t (Capacidade: 1,500 t)\n"
          ]
        }
      ],
      "source": [
        "# Instala a biblioteca PuLP (necessário apenas na primeira execução no Colab)\n",
        "!pip install pulp\n",
        "\n",
        "# Importa as bibliotecas necessárias\n",
        "from pulp import *\n",
        "\n",
        "# Cria o problema de otimização (Minimização)\n",
        "prob = LpProblem(\"Problema de Transporte\", LpMinimize)\n",
        "\n",
        "# Dados do problema: Custos unitários (R$/tonelada)\n",
        "custos = {\n",
        "    (1, 1): 4.00, (1, 2): 2.00, (1, 3): 6.00,\n",
        "    (2, 1): 8.00, (2, 2): 2.00, (2, 3): 4.00,\n",
        "    (3, 1): 4.00, (3, 2): 4.00, (3, 3): 4.00\n",
        "}\n",
        "\n",
        "# Dados do problema: Produção das Fábricas (Oferta)\n",
        "producao = {\n",
        "    1: 2000, 2: 2000, 3: 2000\n",
        "}\n",
        "\n",
        "# Dados do problema: Capacidade dos Depósitos (Demanda)\n",
        "capacidade = {\n",
        "    1: 3000, 2: 3000, 3: 1500\n",
        "}\n",
        "\n",
        "fabricas = list(producao.keys())\n",
        "depositos = list(capacidade.keys())\n",
        "rotas = [(f, d) for f in fabricas for d in depositos]\n",
        "\n",
        "# Define as Variáveis de Decisão (x_ij: quantidade transportada)\n",
        "x = LpVariable.dicts(\"Rota\", rotas, lowBound=0, cat='Continuous')\n",
        "\n",
        "# Define a Função Objetivo: Minimizar o Custo Total\n",
        "prob += lpSum([custos[(f, d)] * x[(f, d)] for (f, d) in rotas]), \"Custo Total de Transporte\"\n",
        "\n",
        "# Restrições de OFERTA (Fábricas): A produção total DEVE ser enviada (=)\n",
        "for f in fabricas:\n",
        "    prob += lpSum([x[(f, d)] for d in depositos]) == producao[f], f\"Oferta_Fábrica_{f}\"\n",
        "\n",
        "# Restrições de CAPACIDADE (Depósitos): Carga recebida NÃO PODE exceder a capacidade (<=)\n",
        "for d in depositos:\n",
        "    prob += lpSum([x[(f, d)] for f in fabricas]) <= capacidade[d], f\"Capacidade_Depósito_{d}\"\n",
        "\n",
        "# Resolve o problema\n",
        "prob.solve()\n",
        "\n",
        "# Apresenta os resultados\n",
        "print(f\"Status da Solução: {LpStatus[prob.status]}\")\n",
        "print(\"\\n--- Resultados Ótimos ---\")\n",
        "\n",
        "# Verifica se a solução é ótima usando a constante correta: LpStatusOptimal\n",
        "if prob.status == LpStatusOptimal:\n",
        "    # Valores das variáveis de decisão (alocação)\n",
        "    print(\"\\nAlocação (toneladas):\")\n",
        "    for (f, d) in rotas:\n",
        "        if x[(f, d)].varValue > 0:\n",
        "            print(f\"  Fábrica {f} -> Depósito {d}: {x[(f, d)].varValue:,.0f} t (Custo R${custos[(f, d)]:.2f}/t)\")\n",
        "\n",
        "    # Valor da Função Objetivo (Custo Mínimo Total)\n",
        "    custo_total = value(prob.objective)\n",
        "    print(f\"\\nCUSTO MÍNIMO TOTAL: R$ {custo_total:,.2f}\")\n",
        "\n",
        "    # Análise das restrições de Capacidade (Demanda Atendida)\n",
        "    print(\"\\nAnálise de Capacidade nos Depósitos (Demanda Atendida):\")\n",
        "    for d in depositos:\n",
        "        recebido = sum(x[(f, d)].varValue for f in fabricas)\n",
        "        capacidade_d = capacidade[d]\n",
        "        print(f\"  Depósito {d} - Recebido: {recebido:,.0f} t (Capacidade: {capacidade_d:,.0f} t)\")\n",
        "\n",
        "else:\n",
        "    print(\"O problema não encontrou uma solução ótima.\")"
      ]
    }
  ]
}